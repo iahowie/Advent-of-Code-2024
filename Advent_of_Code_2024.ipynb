{
  "nbformat": 4,
  "nbformat_minor": 0,
  "metadata": {
    "colab": {
      "provenance": [],
      "include_colab_link": true
    },
    "kernelspec": {
      "name": "python3",
      "display_name": "Python 3"
    },
    "language_info": {
      "name": "python"
    }
  },
  "cells": [
    {
      "cell_type": "markdown",
      "metadata": {
        "id": "view-in-github",
        "colab_type": "text"
      },
      "source": [
        "<a href=\"https://colab.research.google.com/github/iahowie/Advent-of-Code-2024/blob/main/Advent_of_Code_2024.ipynb\" target=\"_parent\"><img src=\"https://colab.research.google.com/assets/colab-badge.svg\" alt=\"Open In Colab\"/></a>"
      ]
    },
    {
      "cell_type": "markdown",
      "source": [
        "# Day 1\n",
        "\n",
        "Part 1:\n"
      ],
      "metadata": {
        "id": "_jL4HiW9ccII"
      }
    },
    {
      "cell_type": "code",
      "execution_count": null,
      "metadata": {
        "colab": {
          "base_uri": "https://localhost:8080/"
        },
        "id": "f0VB4ZOLa5Is",
        "outputId": "009fde08-9e8a-439a-eb19-10cd933119ae"
      },
      "outputs": [
        {
          "output_type": "stream",
          "name": "stdout",
          "text": [
            "2057374.0\n"
          ]
        }
      ],
      "source": [
        "import numpy as np\n",
        "\n",
        "data = np.loadtxt(\"AOC day 1 q1.txt\")\n",
        "\n",
        "array1 = data[:, 0]\n",
        "array2 = data[:, 1]\n",
        "\n",
        "sorted_array1 = np.sort(array1)\n",
        "sorted_array2 = np.sort(array2)\n",
        "\n",
        "total = 0;\n",
        "for i in range(1000):\n",
        "  diff = np.abs(sorted_array1[i] - sorted_array2[i])\n",
        "  total += diff\n",
        "\n",
        "print(total)"
      ]
    },
    {
      "cell_type": "markdown",
      "source": [
        "Part 2:"
      ],
      "metadata": {
        "id": "qFIwJw7TsYqh"
      }
    },
    {
      "cell_type": "code",
      "source": [
        "import numpy as np\n",
        "\n",
        "data = np.loadtxt(\"AOC day 1 q1.txt\")\n",
        "\n",
        "array1 = data[:, 0]\n",
        "array2 = data[:, 1]\n",
        "\n",
        "counts1 = {}\n",
        "counts2 = {}\n",
        "\n",
        "for i in array1:\n",
        "    counts1[i] = counts1.get(i, 0) + 1\n",
        "\n",
        "for i in array2:\n",
        "    counts2[i] = counts2.get(i, 0) + 1\n",
        "\n",
        "total = 0\n",
        "for i in counts1:\n",
        "    if i in counts2:\n",
        "        total += i * counts1[i] * counts2[i]\n",
        "\n",
        "print(total)\n"
      ],
      "metadata": {
        "colab": {
          "base_uri": "https://localhost:8080/"
        },
        "id": "BINAqKCjsgW9",
        "outputId": "c3ba168a-cfe3-45d3-a15a-f7533c148a61"
      },
      "execution_count": 5,
      "outputs": [
        {
          "output_type": "stream",
          "name": "stdout",
          "text": [
            "27267728.0\n"
          ]
        }
      ]
    },
    {
      "cell_type": "markdown",
      "source": [
        "***"
      ],
      "metadata": {
        "id": "VA9ZY85-X4lM"
      }
    },
    {
      "cell_type": "markdown",
      "source": [
        "# Day 2\n",
        "\n",
        "Part 1:"
      ],
      "metadata": {
        "id": "BHidR0ryzRi3"
      }
    },
    {
      "cell_type": "code",
      "source": [
        "count = 0\n",
        "\n",
        "with open(\"aoc day2.txt\", 'r') as file:\n",
        "  for line in file:\n",
        "    report = list(map(int, line.split()))\n",
        "\n",
        "    diff = []\n",
        "    for i in range(len(report) - 1):\n",
        "        diff.append(abs(report[i] - report[i + 1]))\n",
        "\n",
        "    diff_in_range = True\n",
        "    for i in diff:\n",
        "        if not (1 <= i <= 3):\n",
        "            diff_in_range = False\n",
        "\n",
        "\n",
        "    is_increasing = True\n",
        "    for i in range(len(report) - 1):\n",
        "        if report[i] >= report[i + 1]:\n",
        "            is_increasing = False\n",
        "            break\n",
        "\n",
        "\n",
        "    is_decreasing = True\n",
        "    for i in range(len(report) - 1):\n",
        "        if report[i] <= report[i + 1]:\n",
        "            is_decreasing = False\n",
        "            break\n",
        "\n",
        "    if (is_increasing or is_decreasing) and diff_in_range == True:\n",
        "      count += 1\n",
        "\n",
        "\n",
        "print(count)\n"
      ],
      "metadata": {
        "id": "r1RD1vWEzeTj",
        "colab": {
          "base_uri": "https://localhost:8080/"
        },
        "outputId": "6bcc4b84-7ef5-4d9c-de3d-8a2bffc1c713"
      },
      "execution_count": 3,
      "outputs": [
        {
          "output_type": "stream",
          "name": "stdout",
          "text": [
            "631\n"
          ]
        }
      ]
    },
    {
      "cell_type": "markdown",
      "source": [
        "Part 2:"
      ],
      "metadata": {
        "id": "ErmexsBCZX7p"
      }
    },
    {
      "cell_type": "code",
      "source": [
        "count = 0\n",
        "\n",
        "def range_check(report):\n",
        "  diff = []\n",
        "  for i in range(len(report) - 1):\n",
        "      diff.append(abs(report[i] - report[i + 1]))\n",
        "\n",
        "  diff_in_range = True\n",
        "  for i in diff:\n",
        "      if not (1 <= i <= 3):\n",
        "          diff_in_range = False\n",
        "  return diff_in_range\n",
        "\n",
        "def monotonicity_check(report):\n",
        "  is_increasing = True\n",
        "  for i in range(len(report) - 1):\n",
        "      if report[i] >= report[i + 1]:\n",
        "          is_increasing = False\n",
        "          break\n",
        "\n",
        "  is_decreasing = True\n",
        "  for i in range(len(report) - 1):\n",
        "      if report[i] <= report[i + 1]:\n",
        "          is_decreasing = False\n",
        "          break\n",
        "\n",
        "  return (is_increasing or is_decreasing)\n",
        "\n",
        "def is_safe(report):\n",
        "  return range_check(report) and monotonicity_check(report)\n",
        "\n",
        "\n",
        "with open(\"aoc day2.txt\", 'r') as file:\n",
        "  for line in file:\n",
        "    report = list(map(int, line.split()))\n",
        "\n",
        "    if is_safe(report):\n",
        "      count += 1\n",
        "      continue\n",
        "\n",
        "    for i in range(len(report)):\n",
        "      mod_report = report[:i] + report[i+1:]\n",
        "      if is_safe(mod_report):\n",
        "        count += 1\n",
        "        break\n",
        "\n",
        "print(count)"
      ],
      "metadata": {
        "id": "XoU0OJtQZZqs",
        "colab": {
          "base_uri": "https://localhost:8080/"
        },
        "outputId": "c4ad4217-bea0-4eb2-e533-c4bd95dc99ae"
      },
      "execution_count": 16,
      "outputs": [
        {
          "output_type": "stream",
          "name": "stdout",
          "text": [
            "665\n"
          ]
        }
      ]
    }
  ]
}