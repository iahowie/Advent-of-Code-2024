{
 "cells": [
  {
   "cell_type": "markdown",
   "metadata": {
    "id": "_jL4HiW9ccII"
   },
   "source": [
    "# Day 1\n",
    "\n",
    "Part 1:\n"
   ]
  },
  {
   "cell_type": "code",
   "execution_count": 4,
   "metadata": {
    "colab": {
     "base_uri": "https://localhost:8080/"
    },
    "id": "f0VB4ZOLa5Is",
    "outputId": "b9d8bcf0-2a64-44db-92a1-af287de6f596"
   },
   "outputs": [
    {
     "name": "stdout",
     "output_type": "stream",
     "text": [
      "1319616.0\n"
     ]
    }
   ],
   "source": [
    "import numpy as np\n",
    "\n",
    "data = np.loadtxt(\"AOC day 1.txt\")\n",
    "\n",
    "array1 = data[:, 0]\n",
    "array2 = data[:, 1]\n",
    "\n",
    "sorted_array1 = np.sort(array1)\n",
    "sorted_array2 = np.sort(array2)\n",
    "\n",
    "total = 0;\n",
    "for i in range(1000):\n",
    "  diff = np.abs(sorted_array1[i] - sorted_array2[i])\n",
    "  total += diff\n",
    "\n",
    "print(total)"
   ]
  },
  {
   "cell_type": "markdown",
   "metadata": {
    "id": "qFIwJw7TsYqh"
   },
   "source": [
    "Part 2:"
   ]
  },
  {
   "cell_type": "code",
   "execution_count": 5,
   "metadata": {
    "colab": {
     "base_uri": "https://localhost:8080/"
    },
    "id": "BINAqKCjsgW9",
    "outputId": "bc7551a6-5417-46d2-8f75-05cfc61ba700"
   },
   "outputs": [
    {
     "name": "stdout",
     "output_type": "stream",
     "text": [
      "27267728.0\n"
     ]
    }
   ],
   "source": [
    "import numpy as np\n",
    "\n",
    "data = np.loadtxt(\"AOC day 1.txt\")\n",
    "\n",
    "array1 = data[:, 0]\n",
    "array2 = data[:, 1]\n",
    "\n",
    "counts1 = {}\n",
    "counts2 = {}\n",
    "\n",
    "for i in array1:\n",
    "    counts1[i] = counts1.get(i, 0) + 1\n",
    "\n",
    "for i in array2:\n",
    "    counts2[i] = counts2.get(i, 0) + 1\n",
    "\n",
    "total = 0\n",
    "for i in counts1:\n",
    "    if i in counts2:\n",
    "        total += i * counts1[i] * counts2[i]\n",
    "\n",
    "print(total)\n"
   ]
  },
  {
   "cell_type": "markdown",
   "metadata": {
    "id": "VA9ZY85-X4lM"
   },
   "source": [
    "***"
   ]
  },
  {
   "cell_type": "markdown",
   "metadata": {
    "id": "BHidR0ryzRi3"
   },
   "source": [
    "# Day 2\n",
    "\n",
    "Part 1:"
   ]
  },
  {
   "cell_type": "code",
   "execution_count": 6,
   "metadata": {
    "colab": {
     "base_uri": "https://localhost:8080/"
    },
    "id": "r1RD1vWEzeTj",
    "outputId": "7cd0a3f3-dd06-4de6-b8ea-87f1783e95f0"
   },
   "outputs": [
    {
     "name": "stdout",
     "output_type": "stream",
     "text": [
      "631\n"
     ]
    }
   ],
   "source": [
    "count = 0\n",
    "\n",
    "with open(\"aoc day2.txt\", 'r') as file:\n",
    "  for line in file:\n",
    "    report = list(map(int, line.split()))\n",
    "\n",
    "    diff = []\n",
    "    for i in range(len(report) - 1):\n",
    "        diff.append(abs(report[i] - report[i + 1]))\n",
    "\n",
    "    diff_in_range = True\n",
    "    for i in diff:\n",
    "        if not (1 <= i <= 3):\n",
    "            diff_in_range = False\n",
    "\n",
    "\n",
    "    is_increasing = True\n",
    "    for i in range(len(report) - 1):\n",
    "        if report[i] >= report[i + 1]:\n",
    "            is_increasing = False\n",
    "            break\n",
    "\n",
    "\n",
    "    is_decreasing = True\n",
    "    for i in range(len(report) - 1):\n",
    "        if report[i] <= report[i + 1]:\n",
    "            is_decreasing = False\n",
    "            break\n",
    "\n",
    "    if (is_increasing or is_decreasing) and diff_in_range == True:\n",
    "      count += 1\n",
    "\n",
    "\n",
    "print(count)\n"
   ]
  }
 ],
 "metadata": {
  "colab": {
   "provenance": []
  },
  "kernelspec": {
   "display_name": "Python 3",
   "name": "python3"
  },
  "language_info": {
   "codemirror_mode": {
    "name": "ipython",
    "version": 3
   },
   "file_extension": ".py",
   "mimetype": "text/x-python",
   "name": "python",
   "nbconvert_exporter": "python",
   "pygments_lexer": "ipython3",
   "version": "3.11.3"
  }
 },
 "nbformat": 4,
 "nbformat_minor": 0
}
