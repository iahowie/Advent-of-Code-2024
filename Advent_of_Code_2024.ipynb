{
  "nbformat": 4,
  "nbformat_minor": 0,
  "metadata": {
    "colab": {
      "provenance": [],
      "include_colab_link": true
    },
    "kernelspec": {
      "name": "python3",
      "display_name": "Python 3"
    },
    "language_info": {
      "name": "python"
    }
  },
  "cells": [
    {
      "cell_type": "markdown",
      "metadata": {
        "id": "view-in-github",
        "colab_type": "text"
      },
      "source": [
        "<a href=\"https://colab.research.google.com/github/iahowie/Advent-of-Code-2024/blob/main/Advent_of_Code_2024.ipynb\" target=\"_parent\"><img src=\"https://colab.research.google.com/assets/colab-badge.svg\" alt=\"Open In Colab\"/></a>"
      ]
    },
    {
      "cell_type": "markdown",
      "source": [
        "# Day 1"
      ],
      "metadata": {
        "id": "_jL4HiW9ccII"
      }
    },
    {
      "cell_type": "markdown",
      "source": [
        "### Part 1:"
      ],
      "metadata": {
        "id": "rzkX3HWN3U6t"
      }
    },
    {
      "cell_type": "code",
      "execution_count": 20,
      "metadata": {
        "colab": {
          "base_uri": "https://localhost:8080/"
        },
        "id": "f0VB4ZOLa5Is",
        "outputId": "a2f6ae54-ef1d-4910-bf18-254fcb263cdb"
      },
      "outputs": [
        {
          "output_type": "stream",
          "name": "stdout",
          "text": [
            "1319616.0\n"
          ]
        }
      ],
      "source": [
        "import numpy as np\n",
        "\n",
        "data = np.loadtxt(\"AOC day 1 q1.txt\")\n",
        "\n",
        "array1 = data[:, 0]\n",
        "array2 = data[:, 1]\n",
        "\n",
        "sorted_array1 = np.sort(array1)\n",
        "sorted_array2 = np.sort(array2)\n",
        "\n",
        "total = 0;\n",
        "for i in range(1000):\n",
        "  diff = np.abs(sorted_array1[i] - sorted_array2[i])\n",
        "  total += diff\n",
        "\n",
        "print(total)"
      ]
    },
    {
      "cell_type": "markdown",
      "source": [
        "### Part 2:"
      ],
      "metadata": {
        "id": "qFIwJw7TsYqh"
      }
    },
    {
      "cell_type": "code",
      "source": [
        "import numpy as np\n",
        "\n",
        "data = np.loadtxt(\"AOC day 1 q1.txt\")\n",
        "\n",
        "array1 = data[:, 0]\n",
        "array2 = data[:, 1]\n",
        "\n",
        "counts1 = {}\n",
        "counts2 = {}\n",
        "\n",
        "for i in array1:\n",
        "    counts1[i] = counts1.get(i, 0) + 1\n",
        "\n",
        "for i in array2:\n",
        "    counts2[i] = counts2.get(i, 0) + 1\n",
        "\n",
        "total = 0\n",
        "for i in counts1:\n",
        "    if i in counts2:\n",
        "        total += i * counts1[i] * counts2[i]\n",
        "\n",
        "print(total)\n"
      ],
      "metadata": {
        "colab": {
          "base_uri": "https://localhost:8080/"
        },
        "id": "BINAqKCjsgW9",
        "outputId": "46a160ad-576c-47fa-88be-13ca60231559"
      },
      "execution_count": 21,
      "outputs": [
        {
          "output_type": "stream",
          "name": "stdout",
          "text": [
            "27267728.0\n"
          ]
        }
      ]
    },
    {
      "cell_type": "markdown",
      "source": [
        "***"
      ],
      "metadata": {
        "id": "VA9ZY85-X4lM"
      }
    },
    {
      "cell_type": "markdown",
      "source": [
        "# Day 2"
      ],
      "metadata": {
        "id": "BHidR0ryzRi3"
      }
    },
    {
      "cell_type": "markdown",
      "source": [
        "### Part 1:"
      ],
      "metadata": {
        "id": "2Dyb24e93bfu"
      }
    },
    {
      "cell_type": "code",
      "source": [
        "count = 0\n",
        "\n",
        "with open(\"aoc day2.txt\", 'r') as file:\n",
        "  for line in file:\n",
        "    report = list(map(int, line.split()))\n",
        "\n",
        "    diff = []\n",
        "    for i in range(len(report) - 1):\n",
        "        diff.append(abs(report[i] - report[i + 1]))\n",
        "\n",
        "    diff_in_range = True\n",
        "    for i in diff:\n",
        "        if not (1 <= i <= 3):\n",
        "            diff_in_range = False\n",
        "\n",
        "\n",
        "    is_increasing = True\n",
        "    for i in range(len(report) - 1):\n",
        "        if report[i] >= report[i + 1]:\n",
        "            is_increasing = False\n",
        "            break\n",
        "\n",
        "\n",
        "    is_decreasing = True\n",
        "    for i in range(len(report) - 1):\n",
        "        if report[i] <= report[i + 1]:\n",
        "            is_decreasing = False\n",
        "            break\n",
        "\n",
        "    if (is_increasing or is_decreasing) and diff_in_range == True:\n",
        "      count += 1\n",
        "\n",
        "\n",
        "print(count)\n"
      ],
      "metadata": {
        "id": "r1RD1vWEzeTj",
        "colab": {
          "base_uri": "https://localhost:8080/"
        },
        "outputId": "8aa4f806-6017-4a7b-c193-175fa3ef1d00"
      },
      "execution_count": 24,
      "outputs": [
        {
          "output_type": "stream",
          "name": "stdout",
          "text": [
            "631\n"
          ]
        }
      ]
    },
    {
      "cell_type": "markdown",
      "source": [
        "### Part 2:"
      ],
      "metadata": {
        "id": "ErmexsBCZX7p"
      }
    },
    {
      "cell_type": "code",
      "source": [
        "count = 0\n",
        "\n",
        "def range_check(report):\n",
        "  diff = []\n",
        "  for i in range(len(report) - 1):\n",
        "      diff.append(abs(report[i] - report[i + 1]))\n",
        "\n",
        "  diff_in_range = True\n",
        "  for i in diff:\n",
        "      if not (1 <= i <= 3):\n",
        "          diff_in_range = False\n",
        "  return diff_in_range\n",
        "\n",
        "def monotonicity_check(report):\n",
        "  is_increasing = True\n",
        "  for i in range(len(report) - 1):\n",
        "      if report[i] >= report[i + 1]:\n",
        "          is_increasing = False\n",
        "          break\n",
        "\n",
        "  is_decreasing = True\n",
        "  for i in range(len(report) - 1):\n",
        "      if report[i] <= report[i + 1]:\n",
        "          is_decreasing = False\n",
        "          break\n",
        "\n",
        "  return (is_increasing or is_decreasing)\n",
        "\n",
        "def is_safe(report):\n",
        "  return range_check(report) and monotonicity_check(report)\n",
        "\n",
        "\n",
        "with open(\"aoc day2.txt\", 'r') as file:\n",
        "  for line in file:\n",
        "    report = list(map(int, line.split()))\n",
        "\n",
        "    if is_safe(report):\n",
        "      count += 1\n",
        "      continue\n",
        "\n",
        "    for i in range(len(report)):\n",
        "      mod_report = report[:i] + report[i+1:]\n",
        "      if is_safe(mod_report):\n",
        "        count += 1\n",
        "        break\n",
        "\n",
        "print(count)"
      ],
      "metadata": {
        "id": "XoU0OJtQZZqs",
        "colab": {
          "base_uri": "https://localhost:8080/"
        },
        "outputId": "9f5fad0c-5165-4273-cca0-9bef3852f412"
      },
      "execution_count": 25,
      "outputs": [
        {
          "output_type": "stream",
          "name": "stdout",
          "text": [
            "665\n"
          ]
        }
      ]
    },
    {
      "cell_type": "markdown",
      "source": [
        "***"
      ],
      "metadata": {
        "id": "ZHvE5G7G3uOe"
      }
    },
    {
      "cell_type": "markdown",
      "source": [
        "# Day 3\n"
      ],
      "metadata": {
        "id": "xBIT8zKst8y2"
      }
    },
    {
      "cell_type": "markdown",
      "source": [
        "### Part 1:"
      ],
      "metadata": {
        "id": "GBkrV-D63zYe"
      }
    },
    {
      "cell_type": "code",
      "source": [
        "import re\n",
        "\n",
        "total=0\n",
        "\n",
        "def mul(X,Y):\n",
        "  return X * Y\n",
        "\n",
        "pattern = r\"mul\\((\\d+),(\\d+)\\)\"\n",
        "\n",
        "with open('aoc day3.txt', 'r') as file:\n",
        "    data = file.read()\n",
        "\n",
        "matches = re.findall(pattern, data)\n",
        "\n",
        "for x,y in matches:\n",
        "  result = mul(int(x), int(y))\n",
        "  total += result\n",
        "\n",
        "print(total)"
      ],
      "metadata": {
        "colab": {
          "base_uri": "https://localhost:8080/"
        },
        "id": "r4GiEh-IuF2q",
        "outputId": "8f0fa2da-1ef3-4c65-cfec-f26f379a0ffb"
      },
      "execution_count": 26,
      "outputs": [
        {
          "output_type": "stream",
          "name": "stdout",
          "text": [
            "173517243\n"
          ]
        }
      ]
    }
  ]
}