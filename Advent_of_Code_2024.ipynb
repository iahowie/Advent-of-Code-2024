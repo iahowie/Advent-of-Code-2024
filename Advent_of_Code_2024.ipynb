{
  "nbformat": 4,
  "nbformat_minor": 0,
  "metadata": {
    "colab": {
      "provenance": [],
      "collapsed_sections": [
        "_jL4HiW9ccII",
        "BHidR0ryzRi3",
        "xBIT8zKst8y2",
        "QhvXT6zYX3HO",
        "Dwkl8ZAyM2CT",
        "CdEgPuk7h5bM"
      ],
      "include_colab_link": true
    },
    "kernelspec": {
      "name": "python3",
      "display_name": "Python 3"
    },
    "language_info": {
      "name": "python"
    }
  },
  "cells": [
    {
      "cell_type": "markdown",
      "metadata": {
        "id": "view-in-github",
        "colab_type": "text"
      },
      "source": [
        "<a href=\"https://colab.research.google.com/github/iahowie/Advent-of-Code-2024/blob/main/Advent_of_Code_2024.ipynb\" target=\"_parent\"><img src=\"https://colab.research.google.com/assets/colab-badge.svg\" alt=\"Open In Colab\"/></a>"
      ]
    },
    {
      "cell_type": "markdown",
      "source": [
        "# Day 1"
      ],
      "metadata": {
        "id": "_jL4HiW9ccII"
      }
    },
    {
      "cell_type": "markdown",
      "source": [
        "### Part 1:"
      ],
      "metadata": {
        "id": "rzkX3HWN3U6t"
      }
    },
    {
      "cell_type": "code",
      "execution_count": null,
      "metadata": {
        "colab": {
          "base_uri": "https://localhost:8080/"
        },
        "id": "f0VB4ZOLa5Is",
        "outputId": "a2f6ae54-ef1d-4910-bf18-254fcb263cdb"
      },
      "outputs": [
        {
          "output_type": "stream",
          "name": "stdout",
          "text": [
            "1319616.0\n"
          ]
        }
      ],
      "source": [
        "import numpy as np\n",
        "\n",
        "rows = np.loadtxt(\"AOC day 1 q1.txt\")\n",
        "\n",
        "array1 = rows[:, 0]\n",
        "array2 = rows[:, 1]\n",
        "\n",
        "sorted_array1 = np.sort(array1)\n",
        "sorted_array2 = np.sort(array2)\n",
        "\n",
        "total = 0;\n",
        "for i in range(1000):\n",
        "  diff = np.abs(sorted_array1[i] - sorted_array2[i])\n",
        "  total += diff\n",
        "\n",
        "print(total)"
      ]
    },
    {
      "cell_type": "markdown",
      "source": [
        "### Part 2:"
      ],
      "metadata": {
        "id": "qFIwJw7TsYqh"
      }
    },
    {
      "cell_type": "code",
      "source": [
        "import numpy as np\n",
        "\n",
        "data = np.loadtxt(\"AOC day 1 q1.txt\")\n",
        "\n",
        "array1 = rows[:, 0]\n",
        "array2 = data[:, 1]\n",
        "\n",
        "counts1 = {}\n",
        "counts2 = {}\n",
        "\n",
        "for i in array1:\n",
        "    counts1[i] = counts1.get(i, 0) + 1\n",
        "\n",
        "for i in array2:\n",
        "    counts2[i] = counts2.get(i, 0) + 1\n",
        "\n",
        "total = 0\n",
        "for i in counts1:\n",
        "    if i in counts2:\n",
        "        total += i * counts1[i] * counts2[i]\n",
        "\n",
        "print(total)\n"
      ],
      "metadata": {
        "colab": {
          "base_uri": "https://localhost:8080/"
        },
        "id": "BINAqKCjsgW9",
        "outputId": "46a160ad-576c-47fa-88be-13ca60231559"
      },
      "execution_count": null,
      "outputs": [
        {
          "output_type": "stream",
          "name": "stdout",
          "text": [
            "27267728.0\n"
          ]
        }
      ]
    },
    {
      "cell_type": "markdown",
      "source": [
        "***"
      ],
      "metadata": {
        "id": "VA9ZY85-X4lM"
      }
    },
    {
      "cell_type": "markdown",
      "source": [
        "# Day 2"
      ],
      "metadata": {
        "id": "BHidR0ryzRi3"
      }
    },
    {
      "cell_type": "markdown",
      "source": [
        "### Part 1:"
      ],
      "metadata": {
        "id": "2Dyb24e93bfu"
      }
    },
    {
      "cell_type": "code",
      "source": [
        "count = 0\n",
        "\n",
        "with open(\"aoc day2.txt\", 'r') as file:\n",
        "  for line in file:\n",
        "    report = list(map(int, line.split()))\n",
        "\n",
        "    diff = []\n",
        "    for i in range(len(report) - 1):\n",
        "        diff.append(abs(report[i] - report[i + 1]))\n",
        "\n",
        "    diff_in_range = True\n",
        "    for i in diff:\n",
        "        if not (1 <= i <= 3):\n",
        "            diff_in_range = False\n",
        "\n",
        "\n",
        "    is_increasing = True\n",
        "    for i in range(len(report) - 1):\n",
        "        if report[i] >= report[i + 1]:\n",
        "            is_increasing = False\n",
        "            break\n",
        "\n",
        "\n",
        "    is_decreasing = True\n",
        "    for i in range(len(report) - 1):\n",
        "        if report[i] <= report[i + 1]:\n",
        "            is_decreasing = False\n",
        "            break\n",
        "\n",
        "    if (is_increasing or is_decreasing) and diff_in_range == True:\n",
        "      count += 1\n",
        "\n",
        "\n",
        "print(count)\n"
      ],
      "metadata": {
        "id": "r1RD1vWEzeTj",
        "colab": {
          "base_uri": "https://localhost:8080/"
        },
        "outputId": "8aa4f806-6017-4a7b-c193-175fa3ef1d00"
      },
      "execution_count": null,
      "outputs": [
        {
          "output_type": "stream",
          "name": "stdout",
          "text": [
            "631\n"
          ]
        }
      ]
    },
    {
      "cell_type": "markdown",
      "source": [
        "### Part 2:"
      ],
      "metadata": {
        "id": "ErmexsBCZX7p"
      }
    },
    {
      "cell_type": "code",
      "source": [
        "count = 0\n",
        "\n",
        "def range_check(report):\n",
        "  diff = []\n",
        "  for i in range(len(report) - 1):\n",
        "      diff.append(abs(report[i] - report[i + 1]))\n",
        "\n",
        "  diff_in_range = True\n",
        "  for i in diff:\n",
        "      if not (1 <= i <= 3):\n",
        "          diff_in_range = False\n",
        "  return diff_in_range\n",
        "\n",
        "def monotonicity_check(report):\n",
        "  is_increasing = True\n",
        "  for i in range(len(report) - 1):\n",
        "      if report[i] >= report[i + 1]:\n",
        "          is_increasing = False\n",
        "          break\n",
        "\n",
        "  is_decreasing = True\n",
        "  for i in range(len(report) - 1):\n",
        "      if report[i] <= report[i + 1]:\n",
        "          is_decreasing = False\n",
        "          break\n",
        "\n",
        "  return (is_increasing or is_decreasing)\n",
        "\n",
        "def is_safe(report):\n",
        "  return range_check(report) and monotonicity_check(report)\n",
        "\n",
        "\n",
        "with open(\"aoc day2.txt\", 'r') as file:\n",
        "  for line in file:\n",
        "    report = list(map(int, line.split()))\n",
        "\n",
        "    if is_safe(report):\n",
        "      count += 1\n",
        "      continue\n",
        "\n",
        "    for i in range(len(report)):\n",
        "      mod_report = report[:i] + report[i+1:]\n",
        "      if is_safe(mod_report):\n",
        "        count += 1\n",
        "        break\n",
        "\n",
        "print(count)"
      ],
      "metadata": {
        "id": "XoU0OJtQZZqs",
        "colab": {
          "base_uri": "https://localhost:8080/"
        },
        "outputId": "9f5fad0c-5165-4273-cca0-9bef3852f412"
      },
      "execution_count": null,
      "outputs": [
        {
          "output_type": "stream",
          "name": "stdout",
          "text": [
            "665\n"
          ]
        }
      ]
    },
    {
      "cell_type": "markdown",
      "source": [
        "***"
      ],
      "metadata": {
        "id": "ZHvE5G7G3uOe"
      }
    },
    {
      "cell_type": "markdown",
      "source": [
        "# Day 3\n"
      ],
      "metadata": {
        "id": "xBIT8zKst8y2"
      }
    },
    {
      "cell_type": "markdown",
      "source": [
        "### Part 1:"
      ],
      "metadata": {
        "id": "GBkrV-D63zYe"
      }
    },
    {
      "cell_type": "code",
      "source": [
        "import re\n",
        "\n",
        "total=0\n",
        "\n",
        "def mul(X,Y):\n",
        "  return X * Y\n",
        "\n",
        "pattern = r\"mul\\((\\d+),(\\d+)\\)\"\n",
        "\n",
        "with open('aoc day3.txt', 'r') as file:\n",
        "    data = file.read()\n",
        "\n",
        "matches = re.findall(pattern, data)\n",
        "\n",
        "for x,y in matches:\n",
        "  result = mul(int(x), int(y))\n",
        "  total += result\n",
        "\n",
        "print(total)"
      ],
      "metadata": {
        "colab": {
          "base_uri": "https://localhost:8080/"
        },
        "id": "r4GiEh-IuF2q",
        "outputId": "8f0fa2da-1ef3-4c65-cfec-f26f379a0ffb"
      },
      "execution_count": null,
      "outputs": [
        {
          "output_type": "stream",
          "name": "stdout",
          "text": [
            "173517243\n"
          ]
        }
      ]
    },
    {
      "cell_type": "markdown",
      "source": [
        "### Part 2:"
      ],
      "metadata": {
        "id": "JB7fRs2h8W_I"
      }
    },
    {
      "cell_type": "code",
      "source": [
        "import re\n",
        "\n",
        "pattern = r\"mul\\((\\d+),(\\d+)\\)\"\n",
        "enable = r\"\\bdo\\(\\)\"\n",
        "disable = r\"\\bdon't\\(\\)\"\n",
        "\n",
        "read = True\n",
        "total=0\n",
        "\n",
        "def mul(X,Y):\n",
        "  return X * Y\n",
        "\n",
        "with open('aoc day3.txt', 'r') as file:\n",
        "    data = file.read()\n",
        "\n",
        "for match in re.finditer(rf\"{pattern}|{enable}|{disable}\", data):\n",
        "    instruction = match.group(0)\n",
        "    if re.match(enable, instruction):\n",
        "        read = True\n",
        "    elif re.match(disable, instruction):\n",
        "        read = False\n",
        "    elif read and re.match(pattern, instruction):\n",
        "        x, y = map(int, re.findall(r\"\\d+\", instruction))\n",
        "        total += mul(x,y)\n",
        "\n",
        "print(total)"
      ],
      "metadata": {
        "colab": {
          "base_uri": "https://localhost:8080/"
        },
        "id": "TvlquKN58ZzQ",
        "outputId": "c36db313-47c0-4d5a-b806-687f70e7f2c7"
      },
      "execution_count": null,
      "outputs": [
        {
          "output_type": "stream",
          "name": "stdout",
          "text": [
            "100450138\n"
          ]
        }
      ]
    },
    {
      "cell_type": "markdown",
      "source": [
        "***"
      ],
      "metadata": {
        "id": "JJAiBNGpX0kw"
      }
    },
    {
      "cell_type": "markdown",
      "source": [
        "# Day 4"
      ],
      "metadata": {
        "id": "QhvXT6zYX3HO"
      }
    },
    {
      "cell_type": "markdown",
      "source": [
        "### Part 1:"
      ],
      "metadata": {
        "id": "QiyF88WXX66Z"
      }
    },
    {
      "cell_type": "code",
      "source": [
        "import numpy as np\n",
        "count = 0\n",
        "rows = []\n",
        "with open(\"aoc day4.txt\", 'r', encoding='utf-8') as file:\n",
        "    for line in file:\n",
        "      rows.append(list(line.rstrip('\\n')))\n",
        "\n",
        "data = np.array(rows, dtype='str')\n",
        "\n",
        "target = \"XMAS\"\n",
        "target_len = len(target)\n",
        "\n",
        "# Function to check for matches in a line of characters\n",
        "def count_in_line(line, target):\n",
        "    line_str = ''.join(line)\n",
        "    return line_str.count(target)\n",
        "\n",
        "# Function to extract all diagonals in a 2D array\n",
        "def get_diagonals(arr):\n",
        "    diagonals = []\n",
        "    rows, cols = arr.shape\n",
        "\n",
        "    # Top-left to bottom-right diagonals\n",
        "    for d in range(-rows + 1, cols):\n",
        "        diagonals.append(arr.diagonal(d))\n",
        "\n",
        "    # Top-right to bottom-left diagonals (using flipped array)\n",
        "    flipped_arr = np.fliplr(arr)\n",
        "    for d in range(-rows + 1, cols):\n",
        "        diagonals.append(flipped_arr.diagonal(d))\n",
        "\n",
        "    return diagonals\n",
        "\n",
        "# Function to count all occurrences of the word in the 2D array\n",
        "def count_word_in_array(arr, target):\n",
        "    count = 0\n",
        "    rows, cols = arr.shape\n",
        "\n",
        "    # Horizontal (left-to-right and right-to-left)\n",
        "    for row in range(rows):\n",
        "        count += count_in_line(arr[row, :], target)\n",
        "        count += count_in_line(arr[row, ::-1], target)\n",
        "\n",
        "    # Vertical (top-to-bottom and bottom-to-top)\n",
        "    for col in range(cols):\n",
        "        count += count_in_line(arr[:, col], target)\n",
        "        count += count_in_line(arr[::-1, col], target)\n",
        "\n",
        "    # Diagonal (all directions)\n",
        "    diagonals = get_diagonals(arr)\n",
        "    for diag in diagonals:\n",
        "        count += count_in_line(diag, target)\n",
        "\n",
        "    return count\n",
        "\n",
        "result = count_word_in_array(data, target)\n",
        "print(result)\n"
      ],
      "metadata": {
        "colab": {
          "base_uri": "https://localhost:8080/"
        },
        "id": "p7MpyAkoeOaf",
        "outputId": "b9ac864f-c889-4bf4-ad61-47c83b7eb446"
      },
      "execution_count": null,
      "outputs": [
        {
          "output_type": "stream",
          "name": "stdout",
          "text": [
            "2370\n"
          ]
        }
      ]
    },
    {
      "cell_type": "markdown",
      "source": [
        "### Part 2:"
      ],
      "metadata": {
        "id": "Wk6eO14D76pl"
      }
    },
    {
      "cell_type": "code",
      "source": [
        "f = open(\"aoc day4.txt\", \"r\")\n",
        "a = []\n",
        "w = ['']*2\n",
        "total = 0\n",
        "\n",
        "for i in f:\n",
        "  a.append(i.strip())\n",
        "\n",
        "# Adding padding to array to solve out of range issue\n",
        "s = 'Z' * (len(a[0])+2)\n",
        "for i in range(len(a)):\n",
        "  a[i] = 'Z' + a[i] + 'Z'\n",
        "\n",
        "for i in range(3):\n",
        "  a.insert(0, s)\n",
        "  a.append(s)\n",
        "\n",
        "# Check each diagonal for 'SAM' and 'MAS'\n",
        "for y in range(len(a)):\n",
        "  for x in range(len(a[y])):\n",
        "    if a[y][x] == 'A':\n",
        "      w[0] = a[y-1][x-1] + a[y][x] + a[y+1][x+1]\n",
        "      w[1] = a[y+1][x-1] + a[y][x] + a[y-1][x+1]\n",
        "      if w.count('MAS')+w.count('SAM') == 2:\n",
        "        total += 1\n",
        "\n",
        "print(total)\n"
      ],
      "metadata": {
        "colab": {
          "base_uri": "https://localhost:8080/"
        },
        "id": "VaPKyhDp79E5",
        "outputId": "68a64aa7-9547-42db-8884-c30e1346de8a"
      },
      "execution_count": null,
      "outputs": [
        {
          "output_type": "stream",
          "name": "stdout",
          "text": [
            "1908\n"
          ]
        }
      ]
    },
    {
      "cell_type": "markdown",
      "source": [
        "***"
      ],
      "metadata": {
        "id": "YbzApXs7Mu2V"
      }
    },
    {
      "cell_type": "markdown",
      "source": [
        "# Day 5"
      ],
      "metadata": {
        "id": "Dwkl8ZAyM2CT"
      }
    },
    {
      "cell_type": "markdown",
      "source": [
        "### Part 1:"
      ],
      "metadata": {
        "id": "-Y01H4ohNVch"
      }
    },
    {
      "cell_type": "code",
      "source": [
        "f = open(\"day 5.txt\", \"r\")\n",
        "o = [[] for _ in range(100)]\n",
        "total = 0\n",
        "\n",
        "for a in f:\n",
        "  if a == '\\n':\n",
        "    break\n",
        "  i = int(a[:2])\n",
        "  j = int(a[3:5])\n",
        "  o[i].append(j)\n",
        "\n",
        "for a in f:\n",
        "  p = list(map(int, a.strip().split(',')))\n",
        "  v = True\n",
        "\n",
        "  for i in range(len(p)):\n",
        "    for j in range(i+1, len(p)):\n",
        "      try:\n",
        "        o[p[i]].index(p[j])\n",
        "        v = True\n",
        "      except:\n",
        "        v = False\n",
        "        break\n",
        "\n",
        "    if i > 0 and v:\n",
        "      for j in range(i-1, -1, -1):\n",
        "        try:\n",
        "          o[p[i]].index(p[j])\n",
        "          v = False\n",
        "          break\n",
        "        except:\n",
        "          v = True\n",
        "\n",
        "    if not v:\n",
        "      break\n",
        "\n",
        "  if v:\n",
        "    r = p[len(p) // 2]\n",
        "    total += r\n",
        "\n",
        "print(total)"
      ],
      "metadata": {
        "id": "IPstl2EBNYnc",
        "colab": {
          "base_uri": "https://localhost:8080/"
        },
        "outputId": "a959107c-de8c-405a-950a-414bdbb06d6c"
      },
      "execution_count": null,
      "outputs": [
        {
          "output_type": "stream",
          "name": "stdout",
          "text": [
            "5064\n"
          ]
        }
      ]
    },
    {
      "cell_type": "markdown",
      "source": [
        "### Part 2:"
      ],
      "metadata": {
        "id": "kHDa_NurgYzZ"
      }
    },
    {
      "cell_type": "code",
      "source": [
        "f = open(\"day 5.txt\", \"r\")\n",
        "o = [[] for _ in range(100)]\n",
        "total = 0\n",
        "\n",
        "for a in f:\n",
        "    if a == '\\n':\n",
        "        break\n",
        "\n",
        "    i = int(a[:2])\n",
        "    j = int(a[3:5])\n",
        "\n",
        "    o[i].append(j)\n",
        "\n",
        "for a in f:\n",
        "    p = list(map(int, a.strip().split(',')))\n",
        "    v = True\n",
        "    p1 = False\n",
        "    i = 0\n",
        "\n",
        "    while i < len(p):\n",
        "        i += 1\n",
        "\n",
        "        for j in range(i+1, len(p)):\n",
        "            try:\n",
        "                o[p[i]].index(p[j])\n",
        "                v = True\n",
        "            except:\n",
        "                v = False\n",
        "                p1 = True\n",
        "                p[i], p[j] = p[j], p[i]\n",
        "                i -= 1\n",
        "                break\n",
        "\n",
        "        if i > 0 and v:\n",
        "            for j in range(i-1, -1, -1):\n",
        "                try:\n",
        "                    o[p[i]].index(p[j])\n",
        "                    v = False\n",
        "                    p1 = True\n",
        "                    p[i], p[j] = p[j], p[i]\n",
        "                    i -= 1\n",
        "                    break\n",
        "                except:\n",
        "                    v =True\n",
        "\n",
        "        if not v and not p1:\n",
        "            break\n",
        "\n",
        "    if v and p1:\n",
        "        r = p[len(p) // 2]\n",
        "        total += r\n",
        "print(total)\n",
        "\n"
      ],
      "metadata": {
        "colab": {
          "base_uri": "https://localhost:8080/"
        },
        "id": "hf765G7FgYPY",
        "outputId": "a45692af-13dd-4ccb-d5fa-c26f9eb2ad6d"
      },
      "execution_count": null,
      "outputs": [
        {
          "output_type": "stream",
          "name": "stdout",
          "text": [
            "5152\n"
          ]
        }
      ]
    },
    {
      "cell_type": "markdown",
      "source": [
        "***"
      ],
      "metadata": {
        "id": "M3FgbkS2h4IN"
      }
    },
    {
      "cell_type": "markdown",
      "source": [
        "# Day 6"
      ],
      "metadata": {
        "id": "CdEgPuk7h5bM"
      }
    },
    {
      "cell_type": "markdown",
      "source": [
        "### Part 1:"
      ],
      "metadata": {
        "id": "NoyvjiD5h_a5"
      }
    },
    {
      "cell_type": "code",
      "source": [
        "input = open(\"Day6.txt\", \"r\")\n",
        "room = []\n",
        "guard_position = [-1,-1]\n",
        "guard_face_space_x = guard_face_space_y = 0\n",
        "start_x = start_y = 0\n",
        "\n",
        "for a in input:\n",
        "    room.append(a.strip())\n",
        "    if guard_position == [-1,-1]:\n",
        "        start_x = a.find('^')\n",
        "        if start_x != -1:\n",
        "            guard_position = [start_x, start_y]\n",
        "        else:\n",
        "            start_y += 1\n",
        "\n",
        "guard_direction = [0,-1] #North\n",
        "while True:\n",
        "    room[guard_position[1]] = list(room[guard_position[1]])\n",
        "    room[guard_position[1]][guard_position[0]] = 'X'\n",
        "    room[guard_position[1]] = ''.join(room[guard_position[1]])\n",
        "    guard_face_space_x = guard_position[0] + guard_direction[0]\n",
        "    guard_face_space_y = guard_position[1] + guard_direction[1]\n",
        "\n",
        "    if guard_face_space_y < 0 or guard_face_space_y == len(room) or guard_face_space_x < 0 or guard_face_space_x == len(room[0]):\n",
        "        break\n",
        "    elif room[guard_face_space_y][guard_face_space_x] == '#':\n",
        "        if guard_direction == [0,-1]:\n",
        "            guard_direction = [1,0]\n",
        "        elif guard_direction == [1,0]:\n",
        "            guard_direction = [0,1]\n",
        "        elif guard_direction == [0,1]:\n",
        "            guard_direction = [-1,0]\n",
        "        else:\n",
        "            guard_direction = [0,-1]\n",
        "    else:\n",
        "        guard_position[0] += guard_direction[0]\n",
        "        guard_position[1] += guard_direction[1]\n",
        "\n",
        "count = 0\n",
        "for i in room:\n",
        "    count += i.count('X')\n",
        "\n",
        "print(count)\n",
        "\n"
      ],
      "metadata": {
        "id": "FfDUxKhLiEGk",
        "colab": {
          "base_uri": "https://localhost:8080/"
        },
        "outputId": "7cbd3bdf-1253-4d92-df03-d5668f6982de"
      },
      "execution_count": 10,
      "outputs": [
        {
          "output_type": "stream",
          "name": "stdout",
          "text": [
            "5153\n"
          ]
        }
      ]
    },
    {
      "cell_type": "markdown",
      "source": [
        "### Part 2:"
      ],
      "metadata": {
        "id": "IsZoOqjbiFZH"
      }
    },
    {
      "cell_type": "code",
      "source": [
        "from sys import argv\n",
        "import time\n",
        "\n",
        "t_start = time.process_time()\n",
        "\n",
        "directions = [(0,-1), (1,0), (0,1), (-1,0)]\n",
        "with open(\"Day6.txt\", \"r\") as f:\n",
        "    grid = [[c for c in l.strip()] for l in f]\n",
        "\n",
        "t_lap = time.process_time()\n",
        "\n",
        "width, height = (len(grid[0]), len(grid))\n",
        "def outside(x,y):\n",
        "    return not (0<=x<width and 0<=y<height)\n",
        "\n",
        "neighbor = dict()\n",
        "blocks = set()\n",
        "nodes = [(x, y, d) for x in range(width) for y in range(height) for d in range(4)]\n",
        "\n",
        "for x,y in [(x,y) for x in range(width) for y in range(height)]:\n",
        "    if grid[y][x] == \"#\":\n",
        "        blocks.add((x,y))\n",
        "    elif grid[y][x] == \"^\":\n",
        "        startpos = (x,y,0)\n",
        "\n",
        "for x,y,d in nodes:\n",
        "    if outside(x+directions[d][0], y+directions[d][1]):\n",
        "        neighbor[(x,y,d)] = (-1,-1,-1)\n",
        "    elif (x+directions[d][0], y+directions[d][1]) in blocks:\n",
        "        neighbor[(x,y,d)] = (x,y,(d+1)%4)\n",
        "    else:\n",
        "        neighbor[(x,y,d)] = (x+directions[d][0], y+directions[d][1], d)\n",
        "\n",
        "t_lap = time.process_time()\n",
        "\n",
        "orig_path = []\n",
        "orig_visited = set()\n",
        "\n",
        "pos = startpos\n",
        "\n",
        "while not pos==(-1,-1,-1):\n",
        "    orig_path.append(pos)\n",
        "    orig_visited.add((pos[0],pos[1]))\n",
        "    pos = neighbor[pos]\n",
        "\n",
        "loop_obstacles = set()\n",
        "non_loop_obstacles = set()\n",
        "for index, pos in enumerate(orig_path[1:],1):\n",
        "    x,y = (pos[0],pos[1])\n",
        "    if (x,y) in loop_obstacles or (x,y) in non_loop_obstacles:\n",
        "        continue\n",
        "    for d in range(4):\n",
        "        prev = (x-directions[d][0], y-directions[d][1], d)\n",
        "        neighbor[prev] = (prev[0], prev[1], (d+1)%4)\n",
        "    visited = set()\n",
        "    cur = orig_path[index-1]\n",
        "    while not cur==(-1,-1,-1) and cur not in visited:\n",
        "        visited.add(cur)\n",
        "        cur = neighbor[cur]\n",
        "    if cur==(-1,-1,-1):\n",
        "        non_loop_obstacles.add((pos[0],pos[1]))\n",
        "    else:\n",
        "        loop_obstacles.add((pos[0],pos[1]))\n",
        "    for d in range(4):\n",
        "        prev = (x-directions[d][0], y-directions[d][1], d)\n",
        "        neighbor[prev] = (pos[0],pos[1],d)\n",
        "\n",
        "t_round1 = time.process_time()\n",
        "\n",
        "t_lap = time.process_time()\n",
        "\n",
        "neighbor = [[[(x,y,d) for d in range(4)] for y in range(height)] for x in range(width)]\n",
        "blocks = [[False for y in range(height)] for x in range(width)]\n",
        "nodes = [(x, y, d) for x in range(width) for y in range(height) for d in range(4)]\n",
        "\n",
        "for x,y in [(x,y) for x in range(width) for y in range(height)]:\n",
        "    if grid[y][x] == \"#\":\n",
        "        blocks[x][y] = True\n",
        "    elif grid[y][x] == \"^\":\n",
        "        startpos = (x,y,0)\n",
        "\n",
        "for x,y,d in nodes:\n",
        "    if outside(x+directions[d][0], y+directions[d][1]):\n",
        "        neighbor[x][y][d] = (-1,-1,-1)\n",
        "    elif blocks[x+directions[d][0]][y+directions[d][1]]:\n",
        "        neighbor[x][y][d] = (x,y,(d+1)%4)\n",
        "    else:\n",
        "        neighbor[x][y][d] = (x+directions[d][0], y+directions[d][1], d)\n",
        "\n",
        "t_lap = time.process_time()\n",
        "\n",
        "orig_path = []\n",
        "orig_visited = [[False for y in range(height)] for x in range(width)]\n",
        "\n",
        "pos = startpos\n",
        "\n",
        "while not pos==(-1,-1,-1):\n",
        "    x,y,d = pos\n",
        "    orig_path.append(pos)\n",
        "    orig_visited[x][y] = True\n",
        "    pos = neighbor[x][y][d]\n",
        "\n",
        "loop_obstacles = [[False for y in range(height)] for x in range(width)]\n",
        "non_loop_obstacles = [[False for y in range(height)] for x in range(width)]\n",
        "visited = [[[0 for d in range(4)] for y in range(height)] for x in range(width)]\n",
        "for index, pos in enumerate(orig_path[1:],1):\n",
        "    x,y = (pos[0],pos[1])\n",
        "    if loop_obstacles[x][y] or non_loop_obstacles[x][y]:\n",
        "        continue\n",
        "    for d in range(4):\n",
        "        prev = (x-directions[d][0], y-directions[d][1], d)\n",
        "        if outside(prev[0], prev[1]): continue\n",
        "        neighbor[prev[0]][prev[1]][d] = (prev[0], prev[1], (d+1)%4)\n",
        "\n",
        "    cur = orig_path[index-1]\n",
        "    while not cur==(-1,-1,-1) and not visited[cur[0]][cur[1]][cur[2]] == index:\n",
        "        visited[cur[0]][cur[1]][cur[2]] = index\n",
        "        cur = neighbor[cur[0]][cur[1]][cur[2]]\n",
        "    if cur==(-1,-1,-1):\n",
        "        non_loop_obstacles[x][y] = True\n",
        "    else:\n",
        "        loop_obstacles[x][y] = True\n",
        "    for d in range(4):\n",
        "        prev = (x-directions[d][0], y-directions[d][1], d)\n",
        "        if outside(prev[0], prev[1]): continue\n",
        "        neighbor[prev[0]][prev[1]][d] = (pos[0],pos[1],d)\n",
        "\n",
        "\n",
        "t_round2 = time.process_time()\n",
        "loop, non_loop = map (lambda l: sum(sum(row) for row in l), (loop_obstacles, non_loop_obstacles))\n",
        "print(f\"{loop} obstacles lead to a loop.\")"
      ],
      "metadata": {
        "colab": {
          "base_uri": "https://localhost:8080/"
        },
        "id": "vLrF7X-jZwgP",
        "outputId": "dacf84ed-3800-4778-ca9f-f0a90d180170"
      },
      "execution_count": 12,
      "outputs": [
        {
          "output_type": "stream",
          "name": "stdout",
          "text": [
            "1711 obstacles lead to a loop.\n"
          ]
        }
      ]
    },
    {
      "cell_type": "markdown",
      "source": [
        "***"
      ],
      "metadata": {
        "id": "KPdxcnN_iIYN"
      }
    },
    {
      "cell_type": "markdown",
      "source": [
        "# Day 7"
      ],
      "metadata": {
        "id": "EYb07Z_rUNP4"
      }
    },
    {
      "cell_type": "markdown",
      "source": [
        "### Part 1:"
      ],
      "metadata": {
        "id": "8sjwNHiLUQCK"
      }
    },
    {
      "cell_type": "code",
      "source": [
        "input = open(\"Day7.txt\", \"r\")\n",
        "result = 0\n",
        "for a in input:\n",
        "    target, v = a.strip().split(': ')\n",
        "    target = int(target)\n",
        "    values = v.split(' ')\n",
        "    values = list(map(int,values))\n",
        "\n",
        "    s_formula = ''\n",
        "    for i in range(len(values)-1):\n",
        "        s_formula += '('\n",
        "    s_formula += str(values[0])\n",
        "    formula = s_formula\n",
        "\n",
        "    for i in range(2**(len(values)-1)):\n",
        "        b = bin(i)[2:].zfill(len(values)-1)\n",
        "        operator = ''\n",
        "        for digit in b:\n",
        "            if digit == '1':\n",
        "                operator += '*'\n",
        "            else:\n",
        "                operator += '+'\n",
        "\n",
        "        for j in range(len(values)-1):\n",
        "            formula += operator[j]+str(values[j+1])+')'\n",
        "\n",
        "        if eval(formula) == target:\n",
        "            result += target\n",
        "            break\n",
        "\n",
        "        formula = s_formula\n",
        "\n",
        "print(result)"
      ],
      "metadata": {
        "colab": {
          "base_uri": "https://localhost:8080/"
        },
        "id": "IOsMv_eZUZ4P",
        "outputId": "3586312f-60c2-4b42-a675-f2586844752f"
      },
      "execution_count": 6,
      "outputs": [
        {
          "output_type": "stream",
          "name": "stdout",
          "text": [
            "1582598718861\n"
          ]
        }
      ]
    },
    {
      "cell_type": "markdown",
      "source": [
        "### Part 2:"
      ],
      "metadata": {
        "id": "T74WypFIVhwj"
      }
    },
    {
      "cell_type": "code",
      "source": [
        "def get_equations(filename):\n",
        "    equations = []\n",
        "    with open(filename) as new_file:\n",
        "        for line in new_file:\n",
        "            line = line.replace(\":\", \"\")\n",
        "            line = line.replace(\"\\n\", \"\")\n",
        "            parts = line.split(\" \")\n",
        "            equation = [int(part) for part in parts]\n",
        "            equations.append(equation)\n",
        "    return equations\n",
        "\n",
        "def test_equations(equations):\n",
        "    success_sum = 0\n",
        "    for equation in equations:\n",
        "        answer = equation[0]\n",
        "        old_set = [equation[1]]\n",
        "        new_set = []\n",
        "        index = 2\n",
        "        for index in range (2, len(equation)):\n",
        "            next_num = equation[index]\n",
        "            for value in old_set:\n",
        "                new_set.append(value + next_num)\n",
        "                new_set.append(value * next_num)\n",
        "                new_set.append(int(str(value)+str(next_num)))\n",
        "            old_set = new_set\n",
        "            new_set = []\n",
        "        if answer in old_set:\n",
        "            success_sum += answer\n",
        "    return success_sum\n",
        "\n",
        "def main():\n",
        "    equations = get_equations(\"Day7.txt\")\n",
        "    total = test_equations(equations)\n",
        "    print(total)\n",
        "\n",
        "main()"
      ],
      "metadata": {
        "colab": {
          "base_uri": "https://localhost:8080/"
        },
        "id": "LdmDFQhhVk1I",
        "outputId": "a1a4a8d5-6e18-4b57-f000-173d0735d02a"
      },
      "execution_count": 9,
      "outputs": [
        {
          "output_type": "stream",
          "name": "stdout",
          "text": [
            "165278151522644\n"
          ]
        }
      ]
    },
    {
      "cell_type": "markdown",
      "source": [
        "***"
      ],
      "metadata": {
        "id": "DfoVWdnEZYz-"
      }
    },
    {
      "cell_type": "markdown",
      "source": [
        "# Day 8"
      ],
      "metadata": {
        "id": "kgpN6DY2aHlx"
      }
    },
    {
      "cell_type": "code",
      "source": [
        "import math\n",
        "import itertools\n",
        "data = \"\"\"..................................................\n",
        ".r................................................\n",
        "..........................I.......................\n",
        "........................I.........................\n",
        "................................................M.\n",
        "............h......................A..............\n",
        "..7....................I.........h................\n",
        "......7..................................M....9...\n",
        ".o.....U..........................................\n",
        "......................................O...........\n",
        "....c.................J................O...M...A..\n",
        "..................................................\n",
        "...R...7..........................................\n",
        "..............r...................................\n",
        "...................J..................9...........\n",
        "...7..K......UJ...................................\n",
        "......0...U.........................x.............\n",
        ".......R.......0..B......................x........\n",
        ".......................k.....Z.......9............\n",
        ".......L.........I.....J............m.............\n",
        ".....K.BR........r.0.C............................\n",
        ".......K.BR......c................................\n",
        "..................h....m....Al...........H........\n",
        "..............L..k.......h...m..........x..9......\n",
        "........................Z.....m........xO.........\n",
        "..........0................l......................\n",
        ".6..................b.............................\n",
        "............k...o..............Z..................\n",
        "........4.....o...........L.......................\n",
        "....................Xo............................\n",
        "...........8..B..L.........i......................\n",
        "..z...............bX..........A...................\n",
        "j........z...X......C.......i........5............\n",
        ".b...H6.......................U.......l...........\n",
        "..................X...............................\n",
        "...6......................Z..........a............\n",
        "....6........c............5.........1.............\n",
        ".4.......................5........................\n",
        "..........k.......H1l.............................\n",
        "2.................C.......i...................u...\n",
        ".............a....2...............................\n",
        ".....z....H.......1..8.....................u......\n",
        "...........j...b..................................\n",
        "3.........j.........................a.............\n",
        "...4................a.............................\n",
        "..M................j.....1..........5.............\n",
        "............................................u.....\n",
        "..4..3...........i................................\n",
        "z3.................2..............................\n",
        "..........8..................2.C..................\"\"\"\n",
        "\n",
        "data = data.splitlines()\n",
        "data = [list(i) for i in data]\n",
        "mapping = {}\n",
        "bounds = len(data[0])\n",
        "for i in range(len(data)):\n",
        "    for j in range(len(data[0])):\n",
        "        mapping[(i, j)] = data[i][j]\n",
        "\n",
        "if len(data[0]) != len(data):\n",
        "    print(\"Area Not a Square! Tread with caution!\")\n",
        "\n",
        "antennaInfo = {}\n",
        "for i in range(len(data)):\n",
        "    for j in range(len(data[0])):\n",
        "        if mapping[(i, j)] != \".\":\n",
        "            if mapping[(i, j)] not in antennaInfo:\n",
        "                antennaInfo[mapping[(i, j)]] = [(i, j)]\n",
        "            else:\n",
        "                antennaInfo[mapping[(i, j)]].append((i, j))\n",
        "\n",
        "locations = []\n",
        "for key in antennaInfo:\n",
        "    for pair in itertools.product(antennaInfo[key], repeat=2):\n",
        "        if pair[0] != pair[1]:\n",
        "            dX = pair[1][0] - pair[0][0]\n",
        "            dY = pair[1][1] - pair[0][1]\n",
        "            antinode0 = (pair[0][0]-dX, pair[0][1]-dY)\n",
        "            if antinode0[0] >= 0 and antinode0[0] < bounds and antinode0[1] >= 0 and antinode0[1] < bounds:\n",
        "                if antinode0 not in locations:\n",
        "                    locations.append(antinode0)\n",
        "            antinode1 = (pair[1][0]+dX, pair[1][1]+dY)\n",
        "            if antinode1[0] >= 0 and antinode1[0] < bounds and antinode1[1] >= 0 and antinode1[1] < bounds:\n",
        "                if antinode1 not in locations:\n",
        "                    locations.append(antinode1)\n",
        "print(f\"Part 1 answer: {len(locations)}\")\n",
        "\n",
        "locations = []\n",
        "for key in antennaInfo:\n",
        "    for pair in itertools.product(antennaInfo[key], repeat=2):\n",
        "        if pair[0] != pair[1]:\n",
        "            dX = pair[1][0] - pair[0][0]\n",
        "            dY = pair[1][1] - pair[0][1]\n",
        "            if pair[0] not in locations:\n",
        "                locations.append(pair[0])\n",
        "            if pair[1] not in locations:\n",
        "                locations.append(pair[1])\n",
        "            if dX == 0:\n",
        "                for i in range(len(bounds)):\n",
        "                    if (i, pair[0][0]) not in locations:\n",
        "                        locations.append((i, pair[0][0]))\n",
        "            if dY == 0:\n",
        "                for i in range(len(bounds)):\n",
        "                    if (i, pair[0][1]) not in locations:\n",
        "                        locations.append((i, pair[0][1]))\n",
        "            if math.gcd(dX, dY) != 0:\n",
        "                gcd = math.gcd(dX, dY)\n",
        "                dX = dX / gcd\n",
        "                dY = dY / gcd\n",
        "            antinode0 = (pair[0][0]-dX, pair[0][1]-dY)\n",
        "            while antinode0[0] >= 0 and antinode0[0] < bounds and antinode0[1] >= 0 and antinode0[1] < bounds:\n",
        "                if antinode0 not in locations:\n",
        "                    locations.append(antinode0)\n",
        "                antinode0 = (antinode0[0]-dX, antinode0[1]-dY)\n",
        "            antinode1 = (pair[0][0]+dX, pair[0][1]+dY)\n",
        "            while antinode1[0] >= 0 and antinode1[0] < bounds and antinode1[1] >= 0 and antinode1[1] < bounds:\n",
        "                if antinode1 not in locations:\n",
        "                    locations.append(antinode1)\n",
        "                antinode1 = (antinode1[0]+dX, antinode1[1]+dY)\n",
        "\n",
        "print(f\"Part 2 answer: {len(locations)}\")"
      ],
      "metadata": {
        "colab": {
          "base_uri": "https://localhost:8080/"
        },
        "id": "kO6TwppKaQwN",
        "outputId": "6bad813a-9080-43bc-b2fe-7e6a1153a1e3"
      },
      "execution_count": 21,
      "outputs": [
        {
          "output_type": "stream",
          "name": "stdout",
          "text": [
            "Part 1 answer: 259\n",
            "Part 2 answer: 927\n"
          ]
        }
      ]
    },
    {
      "cell_type": "markdown",
      "source": [
        "***"
      ],
      "metadata": {
        "id": "QhpH4SiHaUYm"
      }
    }
  ]
}