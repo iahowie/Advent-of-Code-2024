{
  "nbformat": 4,
  "nbformat_minor": 0,
  "metadata": {
    "colab": {
      "provenance": [],
      "authorship_tag": "ABX9TyMuEZeSY7H/G+Ne7dXkmPRO",
      "include_colab_link": true
    },
    "kernelspec": {
      "name": "python3",
      "display_name": "Python 3"
    },
    "language_info": {
      "name": "python"
    }
  },
  "cells": [
    {
      "cell_type": "markdown",
      "metadata": {
        "id": "view-in-github",
        "colab_type": "text"
      },
      "source": [
        "<a href=\"https://colab.research.google.com/github/iahowie/Advent-of-Code-2024/blob/main/Advent_of_Code_2024.ipynb\" target=\"_parent\"><img src=\"https://colab.research.google.com/assets/colab-badge.svg\" alt=\"Open In Colab\"/></a>"
      ]
    },
    {
      "cell_type": "markdown",
      "source": [
        "# Day 1\n",
        "\n",
        "Part 1\n"
      ],
      "metadata": {
        "id": "_jL4HiW9ccII"
      }
    },
    {
      "cell_type": "code",
      "execution_count": 7,
      "metadata": {
        "colab": {
          "base_uri": "https://localhost:8080/"
        },
        "id": "f0VB4ZOLa5Is",
        "outputId": "b9d8bcf0-2a64-44db-92a1-af287de6f596"
      },
      "outputs": [
        {
          "output_type": "stream",
          "name": "stdout",
          "text": [
            "1319616.0\n"
          ]
        }
      ],
      "source": [
        "import numpy as np\n",
        "\n",
        "data = np.loadtxt(\"AOC day 1 q1.txt\")\n",
        "\n",
        "array1 = data[:, 0]\n",
        "array2 = data[:, 1]\n",
        "\n",
        "sorted_array1 = np.sort(array1)\n",
        "sorted_array2 = np.sort(array2)\n",
        "\n",
        "total = 0;\n",
        "for i in range(1000):\n",
        "  diff = np.abs(sorted_array1[i] - sorted_array2[i])\n",
        "  total += diff\n",
        "\n",
        "print(total)"
      ]
    },
    {
      "cell_type": "markdown",
      "source": [
        "Part 2"
      ],
      "metadata": {
        "id": "qFIwJw7TsYqh"
      }
    },
    {
      "cell_type": "code",
      "source": [
        "import numpy as np\n",
        "\n",
        "data = np.loadtxt(\"AOC day 1 q1.txt\")\n",
        "\n",
        "array1 = data[:, 0]\n",
        "array2 = data[:, 1]\n",
        "\n",
        "counts1 = {}\n",
        "counts2 = {}\n",
        "\n",
        "for i in array1:\n",
        "    counts1[i] = counts1.get(i, 0) + 1\n",
        "\n",
        "for i in array2:\n",
        "    counts2[i] = counts2.get(i, 0) + 1\n",
        "\n",
        "total = 0\n",
        "for i in counts1:\n",
        "    if i in counts2:\n",
        "        total += i * counts1[i] * counts2[i]\n",
        "\n",
        "print(total)\n"
      ],
      "metadata": {
        "colab": {
          "base_uri": "https://localhost:8080/"
        },
        "id": "BINAqKCjsgW9",
        "outputId": "bc7551a6-5417-46d2-8f75-05cfc61ba700"
      },
      "execution_count": 28,
      "outputs": [
        {
          "output_type": "stream",
          "name": "stdout",
          "text": [
            "27267728.0\n"
          ]
        }
      ]
    }
  ]
}