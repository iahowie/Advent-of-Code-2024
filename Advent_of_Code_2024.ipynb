{
  "nbformat": 4,
  "nbformat_minor": 0,
  "metadata": {
    "colab": {
      "provenance": [],
      "collapsed_sections": [
        "_jL4HiW9ccII",
        "BHidR0ryzRi3",
        "xBIT8zKst8y2",
        "QhvXT6zYX3HO"
      ],
      "toc_visible": true,
      "include_colab_link": true
    },
    "kernelspec": {
      "name": "python3",
      "display_name": "Python 3"
    },
    "language_info": {
      "name": "python"
    }
  },
  "cells": [
    {
      "cell_type": "markdown",
      "metadata": {
        "id": "view-in-github",
        "colab_type": "text"
      },
      "source": [
        "<a href=\"https://colab.research.google.com/github/iahowie/Advent-of-Code-2024/blob/main/Advent_of_Code_2024.ipynb\" target=\"_parent\"><img src=\"https://colab.research.google.com/assets/colab-badge.svg\" alt=\"Open In Colab\"/></a>"
      ]
    },
    {
      "cell_type": "markdown",
      "source": [
        "# Day 1"
      ],
      "metadata": {
        "id": "_jL4HiW9ccII"
      }
    },
    {
      "cell_type": "markdown",
      "source": [
        "### Part 1:"
      ],
      "metadata": {
        "id": "rzkX3HWN3U6t"
      }
    },
    {
      "cell_type": "code",
      "execution_count": null,
      "metadata": {
        "colab": {
          "base_uri": "https://localhost:8080/"
        },
        "id": "f0VB4ZOLa5Is",
        "outputId": "a2f6ae54-ef1d-4910-bf18-254fcb263cdb"
      },
      "outputs": [
        {
          "output_type": "stream",
          "name": "stdout",
          "text": [
            "1319616.0\n"
          ]
        }
      ],
      "source": [
        "import numpy as np\n",
        "\n",
        "rows = np.loadtxt(\"AOC day 1 q1.txt\")\n",
        "\n",
        "array1 = rows[:, 0]\n",
        "array2 = rows[:, 1]\n",
        "\n",
        "sorted_array1 = np.sort(array1)\n",
        "sorted_array2 = np.sort(array2)\n",
        "\n",
        "total = 0;\n",
        "for i in range(1000):\n",
        "  diff = np.abs(sorted_array1[i] - sorted_array2[i])\n",
        "  total += diff\n",
        "\n",
        "print(total)"
      ]
    },
    {
      "cell_type": "markdown",
      "source": [
        "### Part 2:"
      ],
      "metadata": {
        "id": "qFIwJw7TsYqh"
      }
    },
    {
      "cell_type": "code",
      "source": [
        "import numpy as np\n",
        "\n",
        "data = np.loadtxt(\"AOC day 1 q1.txt\")\n",
        "\n",
        "array1 = rows[:, 0]\n",
        "array2 = data[:, 1]\n",
        "\n",
        "counts1 = {}\n",
        "counts2 = {}\n",
        "\n",
        "for i in array1:\n",
        "    counts1[i] = counts1.get(i, 0) + 1\n",
        "\n",
        "for i in array2:\n",
        "    counts2[i] = counts2.get(i, 0) + 1\n",
        "\n",
        "total = 0\n",
        "for i in counts1:\n",
        "    if i in counts2:\n",
        "        total += i * counts1[i] * counts2[i]\n",
        "\n",
        "print(total)\n"
      ],
      "metadata": {
        "colab": {
          "base_uri": "https://localhost:8080/"
        },
        "id": "BINAqKCjsgW9",
        "outputId": "46a160ad-576c-47fa-88be-13ca60231559"
      },
      "execution_count": null,
      "outputs": [
        {
          "output_type": "stream",
          "name": "stdout",
          "text": [
            "27267728.0\n"
          ]
        }
      ]
    },
    {
      "cell_type": "markdown",
      "source": [
        "***"
      ],
      "metadata": {
        "id": "VA9ZY85-X4lM"
      }
    },
    {
      "cell_type": "markdown",
      "source": [
        "# Day 2"
      ],
      "metadata": {
        "id": "BHidR0ryzRi3"
      }
    },
    {
      "cell_type": "markdown",
      "source": [
        "### Part 1:"
      ],
      "metadata": {
        "id": "2Dyb24e93bfu"
      }
    },
    {
      "cell_type": "code",
      "source": [
        "count = 0\n",
        "\n",
        "with open(\"aoc day2.txt\", 'r') as file:\n",
        "  for line in file:\n",
        "    report = list(map(int, line.split()))\n",
        "\n",
        "    diff = []\n",
        "    for i in range(len(report) - 1):\n",
        "        diff.append(abs(report[i] - report[i + 1]))\n",
        "\n",
        "    diff_in_range = True\n",
        "    for i in diff:\n",
        "        if not (1 <= i <= 3):\n",
        "            diff_in_range = False\n",
        "\n",
        "\n",
        "    is_increasing = True\n",
        "    for i in range(len(report) - 1):\n",
        "        if report[i] >= report[i + 1]:\n",
        "            is_increasing = False\n",
        "            break\n",
        "\n",
        "\n",
        "    is_decreasing = True\n",
        "    for i in range(len(report) - 1):\n",
        "        if report[i] <= report[i + 1]:\n",
        "            is_decreasing = False\n",
        "            break\n",
        "\n",
        "    if (is_increasing or is_decreasing) and diff_in_range == True:\n",
        "      count += 1\n",
        "\n",
        "\n",
        "print(count)\n"
      ],
      "metadata": {
        "id": "r1RD1vWEzeTj",
        "colab": {
          "base_uri": "https://localhost:8080/"
        },
        "outputId": "8aa4f806-6017-4a7b-c193-175fa3ef1d00"
      },
      "execution_count": null,
      "outputs": [
        {
          "output_type": "stream",
          "name": "stdout",
          "text": [
            "631\n"
          ]
        }
      ]
    },
    {
      "cell_type": "markdown",
      "source": [
        "### Part 2:"
      ],
      "metadata": {
        "id": "ErmexsBCZX7p"
      }
    },
    {
      "cell_type": "code",
      "source": [
        "count = 0\n",
        "\n",
        "def range_check(report):\n",
        "  diff = []\n",
        "  for i in range(len(report) - 1):\n",
        "      diff.append(abs(report[i] - report[i + 1]))\n",
        "\n",
        "  diff_in_range = True\n",
        "  for i in diff:\n",
        "      if not (1 <= i <= 3):\n",
        "          diff_in_range = False\n",
        "  return diff_in_range\n",
        "\n",
        "def monotonicity_check(report):\n",
        "  is_increasing = True\n",
        "  for i in range(len(report) - 1):\n",
        "      if report[i] >= report[i + 1]:\n",
        "          is_increasing = False\n",
        "          break\n",
        "\n",
        "  is_decreasing = True\n",
        "  for i in range(len(report) - 1):\n",
        "      if report[i] <= report[i + 1]:\n",
        "          is_decreasing = False\n",
        "          break\n",
        "\n",
        "  return (is_increasing or is_decreasing)\n",
        "\n",
        "def is_safe(report):\n",
        "  return range_check(report) and monotonicity_check(report)\n",
        "\n",
        "\n",
        "with open(\"aoc day2.txt\", 'r') as file:\n",
        "  for line in file:\n",
        "    report = list(map(int, line.split()))\n",
        "\n",
        "    if is_safe(report):\n",
        "      count += 1\n",
        "      continue\n",
        "\n",
        "    for i in range(len(report)):\n",
        "      mod_report = report[:i] + report[i+1:]\n",
        "      if is_safe(mod_report):\n",
        "        count += 1\n",
        "        break\n",
        "\n",
        "print(count)"
      ],
      "metadata": {
        "id": "XoU0OJtQZZqs",
        "colab": {
          "base_uri": "https://localhost:8080/"
        },
        "outputId": "9f5fad0c-5165-4273-cca0-9bef3852f412"
      },
      "execution_count": null,
      "outputs": [
        {
          "output_type": "stream",
          "name": "stdout",
          "text": [
            "665\n"
          ]
        }
      ]
    },
    {
      "cell_type": "markdown",
      "source": [
        "***"
      ],
      "metadata": {
        "id": "ZHvE5G7G3uOe"
      }
    },
    {
      "cell_type": "markdown",
      "source": [
        "# Day 3\n"
      ],
      "metadata": {
        "id": "xBIT8zKst8y2"
      }
    },
    {
      "cell_type": "markdown",
      "source": [
        "### Part 1:"
      ],
      "metadata": {
        "id": "GBkrV-D63zYe"
      }
    },
    {
      "cell_type": "code",
      "source": [
        "import re\n",
        "\n",
        "total=0\n",
        "\n",
        "def mul(X,Y):\n",
        "  return X * Y\n",
        "\n",
        "pattern = r\"mul\\((\\d+),(\\d+)\\)\"\n",
        "\n",
        "with open('aoc day3.txt', 'r') as file:\n",
        "    data = file.read()\n",
        "\n",
        "matches = re.findall(pattern, data)\n",
        "\n",
        "for x,y in matches:\n",
        "  result = mul(int(x), int(y))\n",
        "  total += result\n",
        "\n",
        "print(total)"
      ],
      "metadata": {
        "colab": {
          "base_uri": "https://localhost:8080/"
        },
        "id": "r4GiEh-IuF2q",
        "outputId": "8f0fa2da-1ef3-4c65-cfec-f26f379a0ffb"
      },
      "execution_count": null,
      "outputs": [
        {
          "output_type": "stream",
          "name": "stdout",
          "text": [
            "173517243\n"
          ]
        }
      ]
    },
    {
      "cell_type": "markdown",
      "source": [
        "### Part 2:"
      ],
      "metadata": {
        "id": "JB7fRs2h8W_I"
      }
    },
    {
      "cell_type": "code",
      "source": [
        "import re\n",
        "\n",
        "pattern = r\"mul\\((\\d+),(\\d+)\\)\"\n",
        "enable = r\"\\bdo\\(\\)\"\n",
        "disable = r\"\\bdon't\\(\\)\"\n",
        "\n",
        "read = True\n",
        "total=0\n",
        "\n",
        "def mul(X,Y):\n",
        "  return X * Y\n",
        "\n",
        "with open('aoc day3.txt', 'r') as file:\n",
        "    data = file.read()\n",
        "\n",
        "for match in re.finditer(rf\"{pattern}|{enable}|{disable}\", data):\n",
        "    instruction = match.group(0)\n",
        "    if re.match(enable, instruction):\n",
        "        read = True\n",
        "    elif re.match(disable, instruction):\n",
        "        read = False\n",
        "    elif read and re.match(pattern, instruction):\n",
        "        x, y = map(int, re.findall(r\"\\d+\", instruction))\n",
        "        total += mul(x,y)\n",
        "\n",
        "print(total)"
      ],
      "metadata": {
        "colab": {
          "base_uri": "https://localhost:8080/"
        },
        "id": "TvlquKN58ZzQ",
        "outputId": "c36db313-47c0-4d5a-b806-687f70e7f2c7"
      },
      "execution_count": null,
      "outputs": [
        {
          "output_type": "stream",
          "name": "stdout",
          "text": [
            "100450138\n"
          ]
        }
      ]
    },
    {
      "cell_type": "markdown",
      "source": [
        "***"
      ],
      "metadata": {
        "id": "JJAiBNGpX0kw"
      }
    },
    {
      "cell_type": "markdown",
      "source": [
        "# Day 4"
      ],
      "metadata": {
        "id": "QhvXT6zYX3HO"
      }
    },
    {
      "cell_type": "markdown",
      "source": [
        "### Part 1:"
      ],
      "metadata": {
        "id": "QiyF88WXX66Z"
      }
    },
    {
      "cell_type": "code",
      "source": [
        "import numpy as np\n",
        "count = 0\n",
        "rows = []\n",
        "with open(\"aoc day4.txt\", 'r', encoding='utf-8') as file:\n",
        "    for line in file:\n",
        "      rows.append(list(line.rstrip('\\n')))\n",
        "\n",
        "data = np.array(rows, dtype='str')\n",
        "\n",
        "target = \"XMAS\"\n",
        "target_len = len(target)\n",
        "\n",
        "# Function to check for matches in a line of characters\n",
        "def count_in_line(line, target):\n",
        "    line_str = ''.join(line)\n",
        "    return line_str.count(target)\n",
        "\n",
        "# Function to extract all diagonals in a 2D array\n",
        "def get_diagonals(arr):\n",
        "    diagonals = []\n",
        "    rows, cols = arr.shape\n",
        "\n",
        "    # Top-left to bottom-right diagonals\n",
        "    for d in range(-rows + 1, cols):\n",
        "        diagonals.append(arr.diagonal(d))\n",
        "\n",
        "    # Top-right to bottom-left diagonals (using flipped array)\n",
        "    flipped_arr = np.fliplr(arr)\n",
        "    for d in range(-rows + 1, cols):\n",
        "        diagonals.append(flipped_arr.diagonal(d))\n",
        "\n",
        "    return diagonals\n",
        "\n",
        "# Function to count all occurrences of the word in the 2D array\n",
        "def count_word_in_array(arr, target):\n",
        "    count = 0\n",
        "    rows, cols = arr.shape\n",
        "\n",
        "    # Horizontal (left-to-right and right-to-left)\n",
        "    for row in range(rows):\n",
        "        count += count_in_line(arr[row, :], target)\n",
        "        count += count_in_line(arr[row, ::-1], target)\n",
        "\n",
        "    # Vertical (top-to-bottom and bottom-to-top)\n",
        "    for col in range(cols):\n",
        "        count += count_in_line(arr[:, col], target)\n",
        "        count += count_in_line(arr[::-1, col], target)\n",
        "\n",
        "    # Diagonal (all directions)\n",
        "    diagonals = get_diagonals(arr)\n",
        "    for diag in diagonals:\n",
        "        count += count_in_line(diag, target)\n",
        "\n",
        "    return count\n",
        "\n",
        "result = count_word_in_array(data, target)\n",
        "print(result)\n"
      ],
      "metadata": {
        "colab": {
          "base_uri": "https://localhost:8080/"
        },
        "id": "p7MpyAkoeOaf",
        "outputId": "b9ac864f-c889-4bf4-ad61-47c83b7eb446"
      },
      "execution_count": null,
      "outputs": [
        {
          "output_type": "stream",
          "name": "stdout",
          "text": [
            "2370\n"
          ]
        }
      ]
    },
    {
      "cell_type": "markdown",
      "source": [
        "### Part 2:"
      ],
      "metadata": {
        "id": "Wk6eO14D76pl"
      }
    },
    {
      "cell_type": "code",
      "source": [
        "f = open(\"aoc day4.txt\", \"r\")\n",
        "a = []\n",
        "w = ['']*2\n",
        "total = 0\n",
        "\n",
        "for i in f:\n",
        "  a.append(i.strip())\n",
        "\n",
        "# Adding padding to array to solve out of range issue\n",
        "s = 'Z' * (len(a[0])+2)\n",
        "for i in range(len(a)):\n",
        "  a[i] = 'Z' + a[i] + 'Z'\n",
        "\n",
        "for i in range(3):\n",
        "  a.insert(0, s)\n",
        "  a.append(s)\n",
        "\n",
        "# Check each diagonal for 'SAM' and 'MAS'\n",
        "for y in range(len(a)):\n",
        "  for x in range(len(a[y])):\n",
        "    if a[y][x] == 'A':\n",
        "      w[0] = a[y-1][x-1] + a[y][x] + a[y+1][x+1]\n",
        "      w[1] = a[y+1][x-1] + a[y][x] + a[y-1][x+1]\n",
        "      if w.count('MAS')+w.count('SAM') == 2:\n",
        "        total += 1\n",
        "\n",
        "print(total)\n"
      ],
      "metadata": {
        "colab": {
          "base_uri": "https://localhost:8080/"
        },
        "id": "VaPKyhDp79E5",
        "outputId": "68a64aa7-9547-42db-8884-c30e1346de8a"
      },
      "execution_count": null,
      "outputs": [
        {
          "output_type": "stream",
          "name": "stdout",
          "text": [
            "1908\n"
          ]
        }
      ]
    },
    {
      "cell_type": "markdown",
      "source": [
        "***"
      ],
      "metadata": {
        "id": "YbzApXs7Mu2V"
      }
    },
    {
      "cell_type": "markdown",
      "source": [
        "# Day 5"
      ],
      "metadata": {
        "id": "Dwkl8ZAyM2CT"
      }
    },
    {
      "cell_type": "markdown",
      "source": [
        "### Part 1:"
      ],
      "metadata": {
        "id": "-Y01H4ohNVch"
      }
    },
    {
      "cell_type": "code",
      "source": [
        "f = open(\"day 5.txt\", \"r\")\n",
        "o = [[] for _ in range(100)]\n",
        "total = 0\n",
        "\n",
        "for a in f:\n",
        "  if a == '\\n':\n",
        "    break\n",
        "  i = int(a[:2])\n",
        "  j = int(a[3:5])\n",
        "  o[i].append(j)\n",
        "\n",
        "for a in f:\n",
        "  p = list(map(int, a.strip().split(',')))\n",
        "  v = True\n",
        "\n",
        "  for i in range(len(p)):\n",
        "    for j in range(i+1, len(p)):\n",
        "      try:\n",
        "        o[p[i]].index(p[j])\n",
        "        v = True\n",
        "      except:\n",
        "        v = False\n",
        "        break\n",
        "\n",
        "    if i > 0 and v:\n",
        "      for j in range(i-1, -1, -1):\n",
        "        try:\n",
        "          o[p[i]].index(p[j])\n",
        "          v = False\n",
        "          break\n",
        "        except:\n",
        "          v = True\n",
        "\n",
        "    if not v:\n",
        "      break\n",
        "\n",
        "  if v:\n",
        "    r = p[len(p) // 2]\n",
        "    total += r\n",
        "\n",
        "print(total)"
      ],
      "metadata": {
        "id": "IPstl2EBNYnc",
        "colab": {
          "base_uri": "https://localhost:8080/"
        },
        "outputId": "a959107c-de8c-405a-950a-414bdbb06d6c"
      },
      "execution_count": 42,
      "outputs": [
        {
          "output_type": "stream",
          "name": "stdout",
          "text": [
            "5064\n"
          ]
        }
      ]
    },
    {
      "cell_type": "markdown",
      "source": [
        "### Part 2:"
      ],
      "metadata": {
        "id": "kHDa_NurgYzZ"
      }
    },
    {
      "cell_type": "code",
      "source": [
        "f = open(\"day 5.txt\", \"r\")\n",
        "o = [[] for _ in range(100)]\n",
        "total = 0\n",
        "\n",
        "for a in f:\n",
        "    if a == '\\n':\n",
        "        break\n",
        "\n",
        "    i = int(a[:2])\n",
        "    j = int(a[3:5])\n",
        "\n",
        "    o[i].append(j)\n",
        "\n",
        "for a in f:\n",
        "    p = list(map(int, a.strip().split(',')))\n",
        "    v = True\n",
        "    p1 = False\n",
        "    i = 0\n",
        "\n",
        "    while i < len(p):\n",
        "        i += 1\n",
        "\n",
        "        for j in range(i+1, len(p)):\n",
        "            try:\n",
        "                o[p[i]].index(p[j])\n",
        "                v = True\n",
        "            except:\n",
        "                v = False\n",
        "                p1 = True\n",
        "                p[i], p[j] = p[j], p[i]\n",
        "                i -= 1\n",
        "                break\n",
        "\n",
        "        if i > 0 and v:\n",
        "            for j in range(i-1, -1, -1):\n",
        "                try:\n",
        "                    o[p[i]].index(p[j])\n",
        "                    v = False\n",
        "                    p1 = True\n",
        "                    p[i], p[j] = p[j], p[i]\n",
        "                    i -= 1\n",
        "                    break\n",
        "                except:\n",
        "                    v =True\n",
        "\n",
        "        if not v and not p1:\n",
        "            break\n",
        "\n",
        "    if v and p1:\n",
        "        r = p[len(p) // 2]\n",
        "        total += r\n",
        "print(total)\n",
        "\n"
      ],
      "metadata": {
        "colab": {
          "base_uri": "https://localhost:8080/"
        },
        "id": "hf765G7FgYPY",
        "outputId": "a45692af-13dd-4ccb-d5fa-c26f9eb2ad6d"
      },
      "execution_count": 44,
      "outputs": [
        {
          "output_type": "stream",
          "name": "stdout",
          "text": [
            "5152\n"
          ]
        }
      ]
    },
    {
      "cell_type": "markdown",
      "source": [
        "***"
      ],
      "metadata": {
        "id": "M3FgbkS2h4IN"
      }
    },
    {
      "cell_type": "markdown",
      "source": [
        "# Day 6"
      ],
      "metadata": {
        "id": "CdEgPuk7h5bM"
      }
    },
    {
      "cell_type": "markdown",
      "source": [
        "### Part 1:"
      ],
      "metadata": {
        "id": "NoyvjiD5h_a5"
      }
    },
    {
      "cell_type": "code",
      "source": [],
      "metadata": {
        "id": "FfDUxKhLiEGk"
      },
      "execution_count": null,
      "outputs": []
    },
    {
      "cell_type": "markdown",
      "source": [
        "### Part 2:"
      ],
      "metadata": {
        "id": "IsZoOqjbiFZH"
      }
    },
    {
      "cell_type": "code",
      "source": [],
      "metadata": {
        "id": "K83eLBZqiHaB"
      },
      "execution_count": null,
      "outputs": []
    },
    {
      "cell_type": "markdown",
      "source": [
        "***"
      ],
      "metadata": {
        "id": "KPdxcnN_iIYN"
      }
    }
  ]
}